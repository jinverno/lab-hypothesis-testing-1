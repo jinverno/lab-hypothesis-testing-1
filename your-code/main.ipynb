{
 "cells": [
  {
   "cell_type": "markdown",
   "metadata": {},
   "source": [
    "# Before your start:\n",
    "- Read the README.md file\n",
    "- Comment as much as you can and use the resources (README.md file)\n",
    "- Happy learning!"
   ]
  },
  {
   "cell_type": "code",
   "execution_count": 1,
   "metadata": {},
   "outputs": [],
   "source": [
    "# import numpy and pandas\n",
    "import pandas as pd\n",
    "import numpy as np"
   ]
  },
  {
   "cell_type": "markdown",
   "metadata": {},
   "source": [
    "# Challenge 1 - Exploring the Data\n",
    "\n",
    "In this challenge, we will examine all salaries of employees of the City of Chicago. We will start by loading the dataset and examining its contents."
   ]
  },
  {
   "cell_type": "code",
   "execution_count": 2,
   "metadata": {},
   "outputs": [],
   "source": [
    "# Your code here:\n",
    "data=pd.read_csv(\"Current_Employee_Names__Salaries__and_Position_Titles.csv\")"
   ]
  },
  {
   "cell_type": "markdown",
   "metadata": {},
   "source": [
    "Examine the `salaries` dataset using the `head` function below."
   ]
  },
  {
   "cell_type": "code",
   "execution_count": 35,
   "metadata": {},
   "outputs": [
    {
     "data": {
      "text/html": [
       "<div>\n",
       "<style scoped>\n",
       "    .dataframe tbody tr th:only-of-type {\n",
       "        vertical-align: middle;\n",
       "    }\n",
       "\n",
       "    .dataframe tbody tr th {\n",
       "        vertical-align: top;\n",
       "    }\n",
       "\n",
       "    .dataframe thead th {\n",
       "        text-align: right;\n",
       "    }\n",
       "</style>\n",
       "<table border=\"1\" class=\"dataframe\">\n",
       "  <thead>\n",
       "    <tr style=\"text-align: right;\">\n",
       "      <th></th>\n",
       "      <th>Name</th>\n",
       "      <th>Job Titles</th>\n",
       "      <th>Department</th>\n",
       "      <th>Full or Part-Time</th>\n",
       "      <th>Salary or Hourly</th>\n",
       "      <th>Typical Hours</th>\n",
       "      <th>Annual Salary</th>\n",
       "      <th>Hourly Rate</th>\n",
       "    </tr>\n",
       "  </thead>\n",
       "  <tbody>\n",
       "    <tr>\n",
       "      <th>0</th>\n",
       "      <td>AARON,  JEFFERY M</td>\n",
       "      <td>SERGEANT</td>\n",
       "      <td>POLICE</td>\n",
       "      <td>F</td>\n",
       "      <td>Salary</td>\n",
       "      <td>NaN</td>\n",
       "      <td>101442.0</td>\n",
       "      <td>NaN</td>\n",
       "    </tr>\n",
       "    <tr>\n",
       "      <th>1</th>\n",
       "      <td>AARON,  KARINA</td>\n",
       "      <td>POLICE OFFICER (ASSIGNED AS DETECTIVE)</td>\n",
       "      <td>POLICE</td>\n",
       "      <td>F</td>\n",
       "      <td>Salary</td>\n",
       "      <td>NaN</td>\n",
       "      <td>94122.0</td>\n",
       "      <td>NaN</td>\n",
       "    </tr>\n",
       "    <tr>\n",
       "      <th>2</th>\n",
       "      <td>AARON,  KIMBERLEI R</td>\n",
       "      <td>CHIEF CONTRACT EXPEDITER</td>\n",
       "      <td>GENERAL SERVICES</td>\n",
       "      <td>F</td>\n",
       "      <td>Salary</td>\n",
       "      <td>NaN</td>\n",
       "      <td>101592.0</td>\n",
       "      <td>NaN</td>\n",
       "    </tr>\n",
       "    <tr>\n",
       "      <th>3</th>\n",
       "      <td>ABAD JR,  VICENTE M</td>\n",
       "      <td>CIVIL ENGINEER IV</td>\n",
       "      <td>WATER MGMNT</td>\n",
       "      <td>F</td>\n",
       "      <td>Salary</td>\n",
       "      <td>NaN</td>\n",
       "      <td>110064.0</td>\n",
       "      <td>NaN</td>\n",
       "    </tr>\n",
       "    <tr>\n",
       "      <th>4</th>\n",
       "      <td>ABASCAL,  REECE E</td>\n",
       "      <td>TRAFFIC CONTROL AIDE-HOURLY</td>\n",
       "      <td>OEMC</td>\n",
       "      <td>P</td>\n",
       "      <td>Hourly</td>\n",
       "      <td>20.0</td>\n",
       "      <td>NaN</td>\n",
       "      <td>19.86</td>\n",
       "    </tr>\n",
       "  </tbody>\n",
       "</table>\n",
       "</div>"
      ],
      "text/plain": [
       "                  Name                              Job Titles  \\\n",
       "0    AARON,  JEFFERY M                                SERGEANT   \n",
       "1      AARON,  KARINA   POLICE OFFICER (ASSIGNED AS DETECTIVE)   \n",
       "2  AARON,  KIMBERLEI R                CHIEF CONTRACT EXPEDITER   \n",
       "3  ABAD JR,  VICENTE M                       CIVIL ENGINEER IV   \n",
       "4    ABASCAL,  REECE E             TRAFFIC CONTROL AIDE-HOURLY   \n",
       "\n",
       "         Department Full or Part-Time Salary or Hourly  Typical Hours  \\\n",
       "0            POLICE                 F           Salary            NaN   \n",
       "1            POLICE                 F           Salary            NaN   \n",
       "2  GENERAL SERVICES                 F           Salary            NaN   \n",
       "3       WATER MGMNT                 F           Salary            NaN   \n",
       "4              OEMC                 P           Hourly           20.0   \n",
       "\n",
       "   Annual Salary  Hourly Rate  \n",
       "0       101442.0          NaN  \n",
       "1        94122.0          NaN  \n",
       "2       101592.0          NaN  \n",
       "3       110064.0          NaN  \n",
       "4            NaN        19.86  "
      ]
     },
     "execution_count": 35,
     "metadata": {},
     "output_type": "execute_result"
    }
   ],
   "source": [
    "# Your code here:\n",
    "data.head()\n"
   ]
  },
  {
   "cell_type": "markdown",
   "metadata": {},
   "source": [
    "We see from looking at the `head` function that there is quite a bit of missing data. Let's examine how much missing data is in each column. Produce this output in the cell below"
   ]
  },
  {
   "cell_type": "code",
   "execution_count": 4,
   "metadata": {},
   "outputs": [
    {
     "name": "stdout",
     "output_type": "stream",
     "text": [
      "<class 'pandas.core.frame.DataFrame'>\n",
      "RangeIndex: 33183 entries, 0 to 33182\n",
      "Data columns (total 8 columns):\n",
      " #   Column             Non-Null Count  Dtype  \n",
      "---  ------             --------------  -----  \n",
      " 0   Name               33183 non-null  object \n",
      " 1   Job Titles         33183 non-null  object \n",
      " 2   Department         33183 non-null  object \n",
      " 3   Full or Part-Time  33183 non-null  object \n",
      " 4   Salary or Hourly   33183 non-null  object \n",
      " 5   Typical Hours      8022 non-null   float64\n",
      " 6   Annual Salary      25161 non-null  float64\n",
      " 7   Hourly Rate        8022 non-null   float64\n",
      "dtypes: float64(3), object(5)\n",
      "memory usage: 2.0+ MB\n"
     ]
    }
   ],
   "source": [
    "# Your code here:\n",
    "data.info()"
   ]
  },
  {
   "cell_type": "markdown",
   "metadata": {},
   "source": [
    "Let's also look at the count of hourly vs. salaried employees. Write the code in the cell below"
   ]
  },
  {
   "cell_type": "code",
   "execution_count": 5,
   "metadata": {},
   "outputs": [
    {
     "name": "stdout",
     "output_type": "stream",
     "text": [
      "Salary = 25161\n",
      "Hourly = 8022\n"
     ]
    }
   ],
   "source": [
    "# Your code here:\n",
    "print(\"Salary =\",(data[data[\"Salary or Hourly\"]==\"Salary\"]).shape[0])\n",
    "print(\"Hourly =\",(data[data[\"Salary or Hourly\"]==\"Hourly\"]).shape[0])\n"
   ]
  },
  {
   "cell_type": "markdown",
   "metadata": {},
   "source": [
    "What this information indicates is that the table contains information about two types of employees - salaried and hourly. Some columns apply only to one type of employee while other columns only apply to another kind. This is why there are so many missing values. Therefore, we will not do anything to handle the missing values."
   ]
  },
  {
   "cell_type": "markdown",
   "metadata": {},
   "source": [
    "There are different departments in the city. List all departments and the count of employees in each department."
   ]
  },
  {
   "cell_type": "code",
   "execution_count": 6,
   "metadata": {},
   "outputs": [
    {
     "data": {
      "text/plain": [
       "Department\n",
       "ADMIN HEARNG                39\n",
       "ANIMAL CONTRL               81\n",
       "AVIATION                  1629\n",
       "BOARD OF ELECTION          107\n",
       "BOARD OF ETHICS              8\n",
       "BUDGET & MGMT               46\n",
       "BUILDINGS                  269\n",
       "BUSINESS AFFAIRS           171\n",
       "CITY CLERK                  84\n",
       "CITY COUNCIL               411\n",
       "COMMUNITY DEVELOPMENT      207\n",
       "COPA                       116\n",
       "CULTURAL AFFAIRS            65\n",
       "DISABILITIES                28\n",
       "DoIT                        99\n",
       "FAMILY & SUPPORT           615\n",
       "FINANCE                    560\n",
       "FIRE                      4641\n",
       "GENERAL SERVICES           980\n",
       "HEALTH                     488\n",
       "HUMAN RELATIONS             16\n",
       "HUMAN RESOURCES             79\n",
       "INSPECTOR GEN               87\n",
       "LAW                        407\n",
       "LICENSE APPL COMM            1\n",
       "MAYOR'S OFFICE              85\n",
       "OEMC                      2102\n",
       "POLICE                   13414\n",
       "POLICE BOARD                 2\n",
       "PROCUREMENT                 92\n",
       "PUBLIC LIBRARY            1015\n",
       "STREETS & SAN             2198\n",
       "TRANSPORTN                1140\n",
       "TREASURER                   22\n",
       "WATER MGMNT               1879\n",
       "Name: Name, dtype: int64"
      ]
     },
     "execution_count": 6,
     "metadata": {},
     "output_type": "execute_result"
    }
   ],
   "source": [
    "# Your code here:\n",
    "\n",
    "data.groupby(by=\"Department\").count()[\"Name\"]"
   ]
  },
  {
   "cell_type": "markdown",
   "metadata": {},
   "source": [
    "# Challenge 2 - Hypothesis Tests\n",
    "\n",
    "In this section of the lab, we will test whether the hourly wage of all hourly workers is significantly different from $30/hr. Import the correct one sample test function from scipy and perform the hypothesis test for a 95% two sided confidence interval."
   ]
  },
  {
   "cell_type": "code",
   "execution_count": 39,
   "metadata": {},
   "outputs": [
    {
     "name": "stdout",
     "output_type": "stream",
     "text": [
      "4.3230240486229894e-92\n"
     ]
    }
   ],
   "source": [
    "# Your code here:\n",
    "import matplotlib.pyplot as plt\n",
    "from scipy.stats import ttest_1samp, ttest_rel, ttest_ind\n",
    "import scipy.stats as stats\n",
    "\n",
    "alpha=0.05\n",
    "H_0=30\n",
    "\n",
    "sample=data[\"Hourly Rate\"].dropna()\n",
    "\n",
    "print(ttest_1samp(sample,H_0)[1])\n",
    "\n",
    "#We reject the H_0 hypothesis because pvalue < alpha\n",
    "#The probability of this hypothesis (i.e. having a 30$/h) is very very low. close to 0. REJECTED!"
   ]
  },
  {
   "cell_type": "code",
   "execution_count": 8,
   "metadata": {},
   "outputs": [
    {
     "data": {
      "text/plain": [
       "'mu = data[\"Hourly Rate\"].mean()\\nsigma = data[\"Hourly Rate\"].std()\\nx1 = 0\\nx2 = 1000\\n# calculate the z-transform\\nz1 = ( x1 - mu ) / sigma\\nz2 = ( x2 - mu ) / sigma\\nx = np.arange(z1, z2) # range of x in spec\\n# mean = 0, stddev = 1, since Z-transform was calculated\\ny = stats.norm.pdf(x,data[\"Hourly Rate\"].mean(),data[\"Hourly Rate\"].std())\\n\\nplt.plot(x,y)\\n#plt.twinx() \\n#plt.hist(data[\"Hourly Rate\"],bins=60)\\nplt.show()'"
      ]
     },
     "execution_count": 8,
     "metadata": {},
     "output_type": "execute_result"
    }
   ],
   "source": [
    "\"\"\"plt.hist(data[\"Hourly Rate\"],bins=60)\n",
    "plt.show()\n",
    "print(\"mean\", data[\"Hourly Rate\"].mean())\n",
    "print(\"std\",data[\"Hourly Rate\"].std())\n",
    "\n",
    "normal=stats.norm(data[\"Hourly Rate\"].mean(),data[\"Hourly Rate\"].std())\n",
    "\n",
    "x=normal.rvs(1000)\n",
    "plt.plot(x,normal.pdf(x))\n",
    "\n",
    "\n",
    "#data[\"Hourly Rate\"].index\n",
    "\n",
    "((data[(data[\"Hourly Rate\"]>29) & (data[\"Hourly Rate\"]<31)]))\"\"\"\n",
    "\n",
    "\"\"\"mu = data[\"Hourly Rate\"].mean()\n",
    "sigma = data[\"Hourly Rate\"].std()\n",
    "x1 = 0\n",
    "x2 = 1000\n",
    "# calculate the z-transform\n",
    "z1 = ( x1 - mu ) / sigma\n",
    "z2 = ( x2 - mu ) / sigma\n",
    "x = np.arange(z1, z2) # range of x in spec\n",
    "# mean = 0, stddev = 1, since Z-transform was calculated\n",
    "y = stats.norm.pdf(x,data[\"Hourly Rate\"].mean(),data[\"Hourly Rate\"].std())\n",
    "\n",
    "plt.plot(x,y)\n",
    "#plt.twinx() \n",
    "#plt.hist(data[\"Hourly Rate\"],bins=60)\n",
    "plt.show()\"\"\""
   ]
  },
  {
   "cell_type": "markdown",
   "metadata": {},
   "source": [
    "We are also curious about salaries in the police force. The chief of police in Chicago claimed in a press briefing that salaries this year are higher than last year's mean of $86000/year a year for all salaried employees. Test this one sided hypothesis using a 95% confidence interval.\n",
    "\n",
    "Hint: A one tailed test has a p-value that is half of the two tailed p-value. If our hypothesis is greater than, then to reject, the test statistic must also be positive."
   ]
  },
  {
   "cell_type": "code",
   "execution_count": 43,
   "metadata": {},
   "outputs": [
    {
     "name": "stdout",
     "output_type": "stream",
     "text": [
      "pvalue 0.0010301701775482569\n",
      "86486.41450313339\n"
     ]
    },
    {
     "data": {
      "image/png": "[encoded data removed]",
      "text/plain": [
       "<Figure size 432x288 with 1 Axes>"
      ]
     },
     "metadata": {
      "needs_background": "light"
     },
     "output_type": "display_data"
    }
   ],
   "source": [
    "alpha=0.05\n",
    "H_0=86000\n",
    "\n",
    "sample=data[(data[\"Department\"] ==\"POLICE\")][\"Annual Salary\"].dropna()\n",
    "\n",
    "print(\"pvalue\", ttest_1samp(sample,H_0)[1]/2)\n",
    "\n",
    "data[(data[\"Department\"] ==\"POLICE\")][\"Annual Salary\"].hist()\n",
    "\n",
    "#print(data[(data[\"Department\"] ==\"POLICE\")][\"Annual Salary\"].mean())\n",
    "\n",
    "#We reject the H_0 hypothesis because pvalue < alpha\n",
    "#The probability of this hypothesis (i.e. having a 86000$) is very very low. close to 0. REJECTED!"
   ]
  },
  {
   "cell_type": "markdown",
   "metadata": {},
   "source": [
    "Using the `crosstab` function, find the department that has the most hourly workers. "
   ]
  },
  {
   "cell_type": "code",
   "execution_count": 10,
   "metadata": {},
   "outputs": [
    {
     "name": "stdout",
     "output_type": "stream",
     "text": [
      "['STREETS & SAN'] is the department that has the most hourly workers\n"
     ]
    }
   ],
   "source": [
    "most_h_workers=pd.crosstab(data[\"Department\"],data[\"Salary or Hourly\"])\n",
    "\n",
    "depart=most_h_workers[most_h_workers[\"Hourly\"]== most_h_workers[\"Hourly\"].max()].reset_index()\n",
    "\n",
    "print(depart[\"Department\"].values, \"is the department that has the most hourly workers\")"
   ]
  },
  {
   "cell_type": "markdown",
   "metadata": {},
   "source": [
    "The workers from the department with the most hourly workers have complained that their hourly wage is less than $35/hour. Using a one sample t-test, test this one-sided hypothesis at the 95% confidence level."
   ]
  },
  {
   "cell_type": "code",
   "execution_count": 11,
   "metadata": {},
   "outputs": [
    {
     "name": "stdout",
     "output_type": "stream",
     "text": [
      "pvalue 3.3378530564707717e-21\n"
     ]
    }
   ],
   "source": [
    "alpha=0.05\n",
    "H_0=35\n",
    "\n",
    "sample=data[(data[\"Department\"] ==\"STREETS & SAN\")][\"Hourly Rate\"].dropna()\n",
    "\n",
    "print(\"pvalue\", ttest_1samp(sample,H_0)[1])"
   ]
  },
  {
   "cell_type": "markdown",
   "metadata": {},
   "source": [
    "# Challenge 3: To practice - Constructing Confidence Intervals\n",
    "\n",
    "While testing our hypothesis is a great way to gather empirical evidence for accepting or rejecting the hypothesis, another way to gather evidence is by creating a confidence interval. A confidence interval gives us information about the true mean of the population. So for a 95% confidence interval, we are 95% sure that the mean of the population is within the confidence interval. \n",
    ").\n",
    "\n",
    "To read more about confidence intervals, click [here](https://en.wikipedia.org/wiki/Confidence_interval).\n",
    "\n",
    "\n",
    "In the cell below, we will construct a 95% confidence interval for the mean hourly wage of all hourly workers. \n",
    "\n",
    "The confidence interval is computed in SciPy using the `t.interval` function. You can read more about this function [here](https://docs.scipy.org/doc/scipy-0.14.0/reference/generated/scipy.stats.t.html).\n",
    "\n",
    "To compute the confidence interval of the hourly wage, use the 0.95 for the confidence level, number of rows - 1 for degrees of freedom, the mean of the sample for the location parameter and the standard error for the scale. The standard error can be computed using [this](https://docs.scipy.org/doc/scipy/reference/generated/scipy.stats.sem.html) function in SciPy."
   ]
  },
  {
   "cell_type": "code",
   "execution_count": 36,
   "metadata": {},
   "outputs": [
    {
     "data": {
      "text/plain": [
       "(9.04624854199498, 56.53086689056758)"
      ]
     },
     "execution_count": 36,
     "metadata": {},
     "output_type": "execute_result"
    }
   ],
   "source": [
    "# Your code here:\n",
    "\n",
    "import scipy.stats as stats\n",
    "\n",
    "confidence_interval=0.95\n",
    "df=data[data[\"Salary or Hourly\"]==\"Hourly\"][\"Hourly Rate\"].count()-1\n",
    "\n",
    "loc=data[data[\"Salary or Hourly\"]==\"Hourly\"][\"Hourly Rate\"].mean()  #mean\n",
    "\n",
    "std_error=stats.sem(data[data[\"Salary or Hourly\"]==\"Hourly\"][\"Hourly Rate\"],ddof=df)  \n",
    "\n",
    "dist=stats.t(df, loc, std_error)\n",
    "\n",
    "dist.interval(confidence_interval)"
   ]
  },
  {
   "cell_type": "markdown",
   "metadata": {},
   "source": [
    "Now construct the 95% confidence interval for all salaried employeed in the police in the cell below."
   ]
  },
  {
   "cell_type": "code",
   "execution_count": 13,
   "metadata": {},
   "outputs": [
    {
     "data": {
      "text/plain": [
       "(50671.60678895816, 122301.22221730862)"
      ]
     },
     "execution_count": 13,
     "metadata": {},
     "output_type": "execute_result"
    }
   ],
   "source": [
    "# Your code here:\n",
    "confidence_interval=0.95 #\n",
    "dataseries=data[(data[\"Department\"] ==\"POLICE\")&(data[\"Salary or Hourly\"]==\"Salary\")][\"Annual Salary\"]\n",
    "\n",
    "df=dataseries.count()-1\n",
    "\n",
    "loc=dataseries.mean()  #mean\n",
    "\n",
    "std_error=stats.sem(dataseries,ddof=df)  #std\n",
    "\n",
    "dist=stats.t(df, loc, std_error)\n",
    "\n",
    "dist.interval(confidence_interval)"
   ]
  },
  {
   "cell_type": "markdown",
   "metadata": {},
   "source": [
    "# Bonus Challenge - Hypothesis Tests of Proportions\n",
    "\n",
    "Another type of one sample test is a hypothesis test of proportions. In this test, we examine whether the proportion of a group in our sample is significantly different than a fraction. \n",
    "\n",
    "You can read more about one sample proportion tests [here](http://sphweb.bumc.bu.edu/otlt/MPH-Modules/BS/SAS/SAS6-CategoricalData/SAS6-CategoricalData2.html).\n",
    "\n",
    "In the cell below, use the `proportions_ztest` function from `statsmodels` to perform a hypothesis test that will determine whether the number of hourly workers in the City of Chicago is significantly different from 25% at the 95% confidence level."
   ]
  },
  {
   "cell_type": "code",
   "execution_count": 14,
   "metadata": {},
   "outputs": [],
   "source": [
    "# Your code here:\n",
    "\n"
   ]
  }
 ],
 "metadata": {
  "kernelspec": {
   "display_name": "Python 3",
   "language": "python",
   "name": "python3"
  },
  "language_info": {
   "codemirror_mode": {
    "name": "ipython",
    "version": 3
   },
   "file_extension": ".py",
   "mimetype": "text/x-python",
   "name": "python",
   "nbconvert_exporter": "python",
   "pygments_lexer": "ipython3",
   "version": "3.7.6"
  }
 },
 "nbformat": 4,
 "nbformat_minor": 2
}
